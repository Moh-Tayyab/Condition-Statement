{
 "cells": [
  {
   "cell_type": "markdown",
   "metadata": {},
   "source": [
    "# Condition Statement."
   ]
  },
  {
   "cell_type": "markdown",
   "metadata": {},
   "source": [
    "# What are If-Else Statement?\n",
    "```If-Else statements allow decision-making in Python.\n",
    "They execute code only if a specific condition is met.\n",
    "If the condition is True, the code block runs; if False, an alternative can run.\n",
    "```"
   ]
  },
  {
   "cell_type": "markdown",
   "metadata": {},
   "source": [
    "# If-Else Syntax\n",
    "```Syntax:\n",
    "\n",
    "if condition:\n",
    "   # Code to run if the condition is True\n",
    "elif another_condition:\n",
    "   # Code if the previous condition was False\n",
    "else:\n",
    "   # Code if none of the conditions are True\n",
    "```"
   ]
  },
  {
   "cell_type": "code",
   "execution_count": 28,
   "metadata": {},
   "outputs": [
    {
     "name": "stdout",
     "output_type": "stream",
     "text": [
      "You are exactly 18!\n"
     ]
    }
   ],
   "source": [
    "# Example: Checking a Person's Age.\n",
    "age = 18 \n",
    "if age < 18:    \n",
    "    print('You are a minor.')\n",
    "elif age == 18:     \n",
    "    print('You are exactly 18!')\n",
    "else:     \n",
    "    print('You are an adult.')\n"
   ]
  },
  {
   "cell_type": "code",
   "execution_count": 29,
   "metadata": {},
   "outputs": [
    {
     "name": "stdout",
     "output_type": "stream",
     "text": [
      " congrats, You gussa a right number..\n"
     ]
    }
   ],
   "source": [
    "num = int(input('Enter number'));\n",
    "\n",
    "if num == 5:\n",
    "    print(' congrats, You gussa a right number..');\n",
    "elif num < 5:\n",
    "    print('You gussa a smaller number than 5. Try Again');\n",
    "else:\n",
    "    print('You gussa a wrong number.Try Again');\n",
    "\n",
    "    "
   ]
  },
  {
   "cell_type": "code",
   "execution_count": 30,
   "metadata": {},
   "outputs": [
    {
     "name": "stdout",
     "output_type": "stream",
     "text": [
      "Welcome, you are login..\n"
     ]
    }
   ],
   "source": [
    "user = \"is Login\";\n",
    "if user == 'is Login':\n",
    "    print('Welcome, you are login..')\n",
    "elif user != 'Not active':\n",
    "    print('Access granted')\n",
    "else:\n",
    "    print('Access denied')"
   ]
  },
  {
   "cell_type": "markdown",
   "metadata": {},
   "source": [
    "# What are Loops?\n",
    "```Loops allow repeated execution of a block of code.\n",
    "Two main types:\n",
    "1. For loops: Iterate over a sequence (e.g., list or range).\n",
    "2. While loops: Execute a block of code until a specific condition is met.  \n",
    "```"
   ]
  },
  {
   "cell_type": "code",
   "execution_count": 31,
   "metadata": {},
   "outputs": [
    {
     "name": "stdout",
     "output_type": "stream",
     "text": [
      "Apple is fruit.\n",
      "Mango is fruit.\n",
      "Cherry is fruit.\n",
      "kiwi is fruit.\n"
     ]
    }
   ],
   "source": [
    "fruits = ['Apple', 'Mango', 'Cherry', 'kiwi']\n",
    "for fruit in fruits:\n",
    "    print(f'{fruit} is fruit.');  "
   ]
  },
  {
   "cell_type": "code",
   "execution_count": 32,
   "metadata": {},
   "outputs": [
    {
     "name": "stdout",
     "output_type": "stream",
     "text": [
      "The number is: 1\n",
      "The number is: 2\n",
      "The number is: 3\n",
      "The number is: 4\n",
      "The number is: 5\n"
     ]
    }
   ],
   "source": [
    "# Example: Looping Through a List\n",
    "numbers = [1,2,3,4,5]\n",
    "for num in numbers:\n",
    "    print(f\"The number is: {num}\")"
   ]
  },
  {
   "cell_type": "markdown",
   "metadata": {},
   "source": [
    "`While Loop` is used to execute a block of code repeatedly for a specified number of times or until a certain condition."
   ]
  },
  {
   "cell_type": "code",
   "execution_count": 33,
   "metadata": {},
   "outputs": [
    {
     "name": "stdout",
     "output_type": "stream",
     "text": [
      "This is the value of x 10\n",
      "This is the value of x 9\n",
      "This is the value of x 8\n",
      "This is the value of x 7\n",
      "This is the value of x 6\n",
      "This is the value of x 5\n",
      "This is the value of x 4\n",
      "This is the value of x 3\n",
      "This is the value of x 2\n",
      "This is the value of x 1\n",
      "This is the value of x 0\n",
      "This is the value of x 1\n",
      "This is the value of x 2\n",
      "This is the value of x 3\n",
      "This is the value of x 4\n",
      "This is the value of x 5\n",
      "This is the value of x 6\n",
      "This is the value of x 7\n",
      "This is the value of x 8\n",
      "This is the value of x 9\n"
     ]
    }
   ],
   "source": [
    "x = 10;\n",
    "\n",
    "while x > 0:\n",
    "    print('This is the value of x', x)\n",
    "    x -= 1  # Decrement by 1\n",
    "    \n",
    "# Example: Counting from 0 to 9 using a while loop\n",
    "x = 0;\n",
    "\n",
    "while x < 10:\n",
    "    print('This is the value of x', x)\n",
    "    x += 1  # Increment by 1"
   ]
  },
  {
   "cell_type": "code",
   "execution_count": 34,
   "metadata": {},
   "outputs": [
    {
     "name": "stdout",
     "output_type": "stream",
     "text": [
      "This is the value of x 12\n",
      "This is the value of x 10\n",
      "This is the value of x 8\n",
      "This is the value of x 6\n",
      "This is the value of x 4\n",
      "This is the value of x 2\n"
     ]
    }
   ],
   "source": [
    "x = 12;\n",
    "\n",
    "while x > 0:\n",
    "    print('This is the value of x', x)\n",
    "    x -= 2"
   ]
  },
  {
   "cell_type": "markdown",
   "metadata": {},
   "source": [
    "# Combining If-Else and Loops"
   ]
  },
  {
   "cell_type": "code",
   "execution_count": 35,
   "metadata": {},
   "outputs": [
    {
     "name": "stdout",
     "output_type": "stream",
     "text": [
      "a is a vowel.\n",
      "r is a consonant.\n",
      "i is a vowel.\n",
      "t is a consonant.\n",
      "h is a consonant.\n",
      "m is a consonant.\n",
      "e is a consonant.\n",
      "t is a consonant.\n",
      "i is a vowel.\n",
      "c is a consonant.\n",
      "1 is an odd number.\n",
      "2 is an even number.\n",
      "3 is an odd number.\n",
      "4 is an even number.\n",
      "5 is an odd number.\n",
      "6 is an even number.\n",
      "7 is an odd number.\n",
      "8 is an even number.\n",
      "9 is an odd number.\n",
      "10 is an even number.\n"
     ]
    }
   ],
   "source": [
    "# for loop and if-else condition\n",
    "vowels = ['a','i','o','u']\n",
    "\n",
    "#for letter in 'Python':\n",
    "for letter in 'arithmetic':\n",
    "    if letter in vowels:\n",
    "        print(f'{letter} is a vowel.')\n",
    "    else:\n",
    "        \n",
    "        print(f'{letter} is a consonant.')\n",
    "        \n",
    "# while loop and if-else condition\n",
    "x = 0;\n",
    "\n",
    "while x < 10:\n",
    "    x += 1\n",
    "    if x % 2 == 0:\n",
    "        print(f'{x} is an even number.')\n",
    "    else:\n",
    "        \n",
    "        print(f'{x} is an odd number.')"
   ]
  }
 ],
 "metadata": {
  "kernelspec": {
   "display_name": "Python 3",
   "language": "python",
   "name": "python3"
  },
  "language_info": {
   "codemirror_mode": {
    "name": "ipython",
    "version": 3
   },
   "file_extension": ".py",
   "mimetype": "text/x-python",
   "name": "python",
   "nbconvert_exporter": "python",
   "pygments_lexer": "ipython3",
   "version": "3.13.0"
  }
 },
 "nbformat": 4,
 "nbformat_minor": 2
}
